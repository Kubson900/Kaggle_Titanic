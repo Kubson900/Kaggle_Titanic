{
 "metadata": {
  "kernelspec": {
   "language": "python",
   "display_name": "Python 3",
   "name": "python3"
  },
  "language_info": {
   "pygments_lexer": "ipython3",
   "nbconvert_exporter": "python",
   "version": "3.6.4",
   "file_extension": ".py",
   "codemirror_mode": {
    "name": "ipython",
    "version": 3
   },
   "name": "python",
   "mimetype": "text/x-python"
  }
 },
 "nbformat_minor": 4,
 "nbformat": 4,
 "cells": [
  {
   "cell_type": "markdown",
   "source": [
    "# Imports and Loading data"
   ],
   "metadata": {
    "_uuid": "8f2839f25d086af736a60e9eeb907d3b93b6e0e5",
    "_cell_guid": "b1076dfc-b9ad-4769-8c92-a6c4dae69d19",
    "execution": {
     "iopub.status.busy": "2022-03-04T14:50:17.286644Z",
     "iopub.execute_input": "2022-03-04T14:50:17.287243Z",
     "iopub.status.idle": "2022-03-04T14:50:17.294053Z",
     "shell.execute_reply.started": "2022-03-04T14:50:17.287205Z",
     "shell.execute_reply": "2022-03-04T14:50:17.293393Z"
    }
   }
  },
  {
   "cell_type": "code",
   "execution_count": 23,
   "outputs": [],
   "source": [
    "import numpy as np\n",
    "import pandas as pd\n",
    "import seaborn as sns"
   ],
   "metadata": {
    "collapsed": false,
    "pycharm": {
     "name": "#%%\n"
    }
   }
  },
  {
   "cell_type": "code",
   "source": [
    "train_data = pd.read_csv(\"train.csv\")\n",
    "train_data.head()"
   ],
   "metadata": {
    "execution": {
     "iopub.status.busy": "2022-03-05T16:45:55.98962Z",
     "iopub.execute_input": "2022-03-05T16:45:55.990394Z",
     "iopub.status.idle": "2022-03-05T16:45:56.030227Z",
     "shell.execute_reply.started": "2022-03-05T16:45:55.990345Z",
     "shell.execute_reply": "2022-03-05T16:45:56.029335Z"
    },
    "trusted": true
   },
   "execution_count": 24,
   "outputs": [
    {
     "data": {
      "text/plain": "   PassengerId  Survived  Pclass  \\\n0            1         0       3   \n1            2         1       1   \n2            3         1       3   \n3            4         1       1   \n4            5         0       3   \n\n                                                Name     Sex   Age  SibSp  \\\n0                            Braund, Mr. Owen Harris    male  22.0      1   \n1  Cumings, Mrs. John Bradley (Florence Briggs Th...  female  38.0      1   \n2                             Heikkinen, Miss. Laina  female  26.0      0   \n3       Futrelle, Mrs. Jacques Heath (Lily May Peel)  female  35.0      1   \n4                           Allen, Mr. William Henry    male  35.0      0   \n\n   Parch            Ticket     Fare Cabin Embarked  \n0      0         A/5 21171   7.2500   NaN        S  \n1      0          PC 17599  71.2833   C85        C  \n2      0  STON/O2. 3101282   7.9250   NaN        S  \n3      0            113803  53.1000  C123        S  \n4      0            373450   8.0500   NaN        S  ",
      "text/html": "<div>\n<style scoped>\n    .dataframe tbody tr th:only-of-type {\n        vertical-align: middle;\n    }\n\n    .dataframe tbody tr th {\n        vertical-align: top;\n    }\n\n    .dataframe thead th {\n        text-align: right;\n    }\n</style>\n<table border=\"1\" class=\"dataframe\">\n  <thead>\n    <tr style=\"text-align: right;\">\n      <th></th>\n      <th>PassengerId</th>\n      <th>Survived</th>\n      <th>Pclass</th>\n      <th>Name</th>\n      <th>Sex</th>\n      <th>Age</th>\n      <th>SibSp</th>\n      <th>Parch</th>\n      <th>Ticket</th>\n      <th>Fare</th>\n      <th>Cabin</th>\n      <th>Embarked</th>\n    </tr>\n  </thead>\n  <tbody>\n    <tr>\n      <th>0</th>\n      <td>1</td>\n      <td>0</td>\n      <td>3</td>\n      <td>Braund, Mr. Owen Harris</td>\n      <td>male</td>\n      <td>22.0</td>\n      <td>1</td>\n      <td>0</td>\n      <td>A/5 21171</td>\n      <td>7.2500</td>\n      <td>NaN</td>\n      <td>S</td>\n    </tr>\n    <tr>\n      <th>1</th>\n      <td>2</td>\n      <td>1</td>\n      <td>1</td>\n      <td>Cumings, Mrs. John Bradley (Florence Briggs Th...</td>\n      <td>female</td>\n      <td>38.0</td>\n      <td>1</td>\n      <td>0</td>\n      <td>PC 17599</td>\n      <td>71.2833</td>\n      <td>C85</td>\n      <td>C</td>\n    </tr>\n    <tr>\n      <th>2</th>\n      <td>3</td>\n      <td>1</td>\n      <td>3</td>\n      <td>Heikkinen, Miss. Laina</td>\n      <td>female</td>\n      <td>26.0</td>\n      <td>0</td>\n      <td>0</td>\n      <td>STON/O2. 3101282</td>\n      <td>7.9250</td>\n      <td>NaN</td>\n      <td>S</td>\n    </tr>\n    <tr>\n      <th>3</th>\n      <td>4</td>\n      <td>1</td>\n      <td>1</td>\n      <td>Futrelle, Mrs. Jacques Heath (Lily May Peel)</td>\n      <td>female</td>\n      <td>35.0</td>\n      <td>1</td>\n      <td>0</td>\n      <td>113803</td>\n      <td>53.1000</td>\n      <td>C123</td>\n      <td>S</td>\n    </tr>\n    <tr>\n      <th>4</th>\n      <td>5</td>\n      <td>0</td>\n      <td>3</td>\n      <td>Allen, Mr. William Henry</td>\n      <td>male</td>\n      <td>35.0</td>\n      <td>0</td>\n      <td>0</td>\n      <td>373450</td>\n      <td>8.0500</td>\n      <td>NaN</td>\n      <td>S</td>\n    </tr>\n  </tbody>\n</table>\n</div>"
     },
     "execution_count": 24,
     "metadata": {},
     "output_type": "execute_result"
    }
   ]
  },
  {
   "cell_type": "code",
   "source": [
    "test_data = pd.read_csv(\"test.csv\")\n",
    "test_data.head()"
   ],
   "metadata": {
    "execution": {
     "iopub.status.busy": "2022-03-05T16:45:56.032021Z",
     "iopub.execute_input": "2022-03-05T16:45:56.032328Z",
     "iopub.status.idle": "2022-03-05T16:45:56.05536Z",
     "shell.execute_reply.started": "2022-03-05T16:45:56.03228Z",
     "shell.execute_reply": "2022-03-05T16:45:56.054596Z"
    },
    "trusted": true
   },
   "execution_count": 25,
   "outputs": [
    {
     "data": {
      "text/plain": "   PassengerId  Pclass                                          Name     Sex  \\\n0          892       3                              Kelly, Mr. James    male   \n1          893       3              Wilkes, Mrs. James (Ellen Needs)  female   \n2          894       2                     Myles, Mr. Thomas Francis    male   \n3          895       3                              Wirz, Mr. Albert    male   \n4          896       3  Hirvonen, Mrs. Alexander (Helga E Lindqvist)  female   \n\n    Age  SibSp  Parch   Ticket     Fare Cabin Embarked  \n0  34.5      0      0   330911   7.8292   NaN        Q  \n1  47.0      1      0   363272   7.0000   NaN        S  \n2  62.0      0      0   240276   9.6875   NaN        Q  \n3  27.0      0      0   315154   8.6625   NaN        S  \n4  22.0      1      1  3101298  12.2875   NaN        S  ",
      "text/html": "<div>\n<style scoped>\n    .dataframe tbody tr th:only-of-type {\n        vertical-align: middle;\n    }\n\n    .dataframe tbody tr th {\n        vertical-align: top;\n    }\n\n    .dataframe thead th {\n        text-align: right;\n    }\n</style>\n<table border=\"1\" class=\"dataframe\">\n  <thead>\n    <tr style=\"text-align: right;\">\n      <th></th>\n      <th>PassengerId</th>\n      <th>Pclass</th>\n      <th>Name</th>\n      <th>Sex</th>\n      <th>Age</th>\n      <th>SibSp</th>\n      <th>Parch</th>\n      <th>Ticket</th>\n      <th>Fare</th>\n      <th>Cabin</th>\n      <th>Embarked</th>\n    </tr>\n  </thead>\n  <tbody>\n    <tr>\n      <th>0</th>\n      <td>892</td>\n      <td>3</td>\n      <td>Kelly, Mr. James</td>\n      <td>male</td>\n      <td>34.5</td>\n      <td>0</td>\n      <td>0</td>\n      <td>330911</td>\n      <td>7.8292</td>\n      <td>NaN</td>\n      <td>Q</td>\n    </tr>\n    <tr>\n      <th>1</th>\n      <td>893</td>\n      <td>3</td>\n      <td>Wilkes, Mrs. James (Ellen Needs)</td>\n      <td>female</td>\n      <td>47.0</td>\n      <td>1</td>\n      <td>0</td>\n      <td>363272</td>\n      <td>7.0000</td>\n      <td>NaN</td>\n      <td>S</td>\n    </tr>\n    <tr>\n      <th>2</th>\n      <td>894</td>\n      <td>2</td>\n      <td>Myles, Mr. Thomas Francis</td>\n      <td>male</td>\n      <td>62.0</td>\n      <td>0</td>\n      <td>0</td>\n      <td>240276</td>\n      <td>9.6875</td>\n      <td>NaN</td>\n      <td>Q</td>\n    </tr>\n    <tr>\n      <th>3</th>\n      <td>895</td>\n      <td>3</td>\n      <td>Wirz, Mr. Albert</td>\n      <td>male</td>\n      <td>27.0</td>\n      <td>0</td>\n      <td>0</td>\n      <td>315154</td>\n      <td>8.6625</td>\n      <td>NaN</td>\n      <td>S</td>\n    </tr>\n    <tr>\n      <th>4</th>\n      <td>896</td>\n      <td>3</td>\n      <td>Hirvonen, Mrs. Alexander (Helga E Lindqvist)</td>\n      <td>female</td>\n      <td>22.0</td>\n      <td>1</td>\n      <td>1</td>\n      <td>3101298</td>\n      <td>12.2875</td>\n      <td>NaN</td>\n      <td>S</td>\n    </tr>\n  </tbody>\n</table>\n</div>"
     },
     "execution_count": 25,
     "metadata": {},
     "output_type": "execute_result"
    }
   ]
  },
  {
   "cell_type": "markdown",
   "source": [
    "# Basic understanding of dataset"
   ],
   "metadata": {}
  },
  {
   "cell_type": "code",
   "source": [
    "train_data.info()"
   ],
   "metadata": {
    "execution": {
     "iopub.status.busy": "2022-03-05T16:45:56.056401Z",
     "iopub.execute_input": "2022-03-05T16:45:56.056638Z",
     "iopub.status.idle": "2022-03-05T16:45:56.079594Z",
     "shell.execute_reply.started": "2022-03-05T16:45:56.05661Z",
     "shell.execute_reply": "2022-03-05T16:45:56.078777Z"
    },
    "trusted": true
   },
   "execution_count": 26,
   "outputs": [
    {
     "name": "stdout",
     "output_type": "stream",
     "text": [
      "<class 'pandas.core.frame.DataFrame'>\n",
      "RangeIndex: 891 entries, 0 to 890\n",
      "Data columns (total 12 columns):\n",
      " #   Column       Non-Null Count  Dtype  \n",
      "---  ------       --------------  -----  \n",
      " 0   PassengerId  891 non-null    int64  \n",
      " 1   Survived     891 non-null    int64  \n",
      " 2   Pclass       891 non-null    int64  \n",
      " 3   Name         891 non-null    object \n",
      " 4   Sex          891 non-null    object \n",
      " 5   Age          714 non-null    float64\n",
      " 6   SibSp        891 non-null    int64  \n",
      " 7   Parch        891 non-null    int64  \n",
      " 8   Ticket       891 non-null    object \n",
      " 9   Fare         891 non-null    float64\n",
      " 10  Cabin        204 non-null    object \n",
      " 11  Embarked     889 non-null    object \n",
      "dtypes: float64(2), int64(5), object(5)\n",
      "memory usage: 83.7+ KB\n"
     ]
    }
   ]
  },
  {
   "cell_type": "code",
   "source": [
    "train_data.describe()"
   ],
   "metadata": {
    "execution": {
     "iopub.status.busy": "2022-03-05T16:45:56.081543Z",
     "iopub.execute_input": "2022-03-05T16:45:56.081792Z",
     "iopub.status.idle": "2022-03-05T16:45:56.114173Z",
     "shell.execute_reply.started": "2022-03-05T16:45:56.081764Z",
     "shell.execute_reply": "2022-03-05T16:45:56.113474Z"
    },
    "trusted": true
   },
   "execution_count": 27,
   "outputs": [
    {
     "data": {
      "text/plain": "       PassengerId    Survived      Pclass         Age       SibSp  \\\ncount   891.000000  891.000000  891.000000  714.000000  891.000000   \nmean    446.000000    0.383838    2.308642   29.699118    0.523008   \nstd     257.353842    0.486592    0.836071   14.526497    1.102743   \nmin       1.000000    0.000000    1.000000    0.420000    0.000000   \n25%     223.500000    0.000000    2.000000   20.125000    0.000000   \n50%     446.000000    0.000000    3.000000   28.000000    0.000000   \n75%     668.500000    1.000000    3.000000   38.000000    1.000000   \nmax     891.000000    1.000000    3.000000   80.000000    8.000000   \n\n            Parch        Fare  \ncount  891.000000  891.000000  \nmean     0.381594   32.204208  \nstd      0.806057   49.693429  \nmin      0.000000    0.000000  \n25%      0.000000    7.910400  \n50%      0.000000   14.454200  \n75%      0.000000   31.000000  \nmax      6.000000  512.329200  ",
      "text/html": "<div>\n<style scoped>\n    .dataframe tbody tr th:only-of-type {\n        vertical-align: middle;\n    }\n\n    .dataframe tbody tr th {\n        vertical-align: top;\n    }\n\n    .dataframe thead th {\n        text-align: right;\n    }\n</style>\n<table border=\"1\" class=\"dataframe\">\n  <thead>\n    <tr style=\"text-align: right;\">\n      <th></th>\n      <th>PassengerId</th>\n      <th>Survived</th>\n      <th>Pclass</th>\n      <th>Age</th>\n      <th>SibSp</th>\n      <th>Parch</th>\n      <th>Fare</th>\n    </tr>\n  </thead>\n  <tbody>\n    <tr>\n      <th>count</th>\n      <td>891.000000</td>\n      <td>891.000000</td>\n      <td>891.000000</td>\n      <td>714.000000</td>\n      <td>891.000000</td>\n      <td>891.000000</td>\n      <td>891.000000</td>\n    </tr>\n    <tr>\n      <th>mean</th>\n      <td>446.000000</td>\n      <td>0.383838</td>\n      <td>2.308642</td>\n      <td>29.699118</td>\n      <td>0.523008</td>\n      <td>0.381594</td>\n      <td>32.204208</td>\n    </tr>\n    <tr>\n      <th>std</th>\n      <td>257.353842</td>\n      <td>0.486592</td>\n      <td>0.836071</td>\n      <td>14.526497</td>\n      <td>1.102743</td>\n      <td>0.806057</td>\n      <td>49.693429</td>\n    </tr>\n    <tr>\n      <th>min</th>\n      <td>1.000000</td>\n      <td>0.000000</td>\n      <td>1.000000</td>\n      <td>0.420000</td>\n      <td>0.000000</td>\n      <td>0.000000</td>\n      <td>0.000000</td>\n    </tr>\n    <tr>\n      <th>25%</th>\n      <td>223.500000</td>\n      <td>0.000000</td>\n      <td>2.000000</td>\n      <td>20.125000</td>\n      <td>0.000000</td>\n      <td>0.000000</td>\n      <td>7.910400</td>\n    </tr>\n    <tr>\n      <th>50%</th>\n      <td>446.000000</td>\n      <td>0.000000</td>\n      <td>3.000000</td>\n      <td>28.000000</td>\n      <td>0.000000</td>\n      <td>0.000000</td>\n      <td>14.454200</td>\n    </tr>\n    <tr>\n      <th>75%</th>\n      <td>668.500000</td>\n      <td>1.000000</td>\n      <td>3.000000</td>\n      <td>38.000000</td>\n      <td>1.000000</td>\n      <td>0.000000</td>\n      <td>31.000000</td>\n    </tr>\n    <tr>\n      <th>max</th>\n      <td>891.000000</td>\n      <td>1.000000</td>\n      <td>3.000000</td>\n      <td>80.000000</td>\n      <td>8.000000</td>\n      <td>6.000000</td>\n      <td>512.329200</td>\n    </tr>\n  </tbody>\n</table>\n</div>"
     },
     "execution_count": 27,
     "metadata": {},
     "output_type": "execute_result"
    }
   ]
  },
  {
   "cell_type": "code",
   "source": [
    "train_data.select_dtypes(include=object).describe()"
   ],
   "metadata": {
    "execution": {
     "iopub.status.busy": "2022-03-05T16:45:56.115195Z",
     "iopub.execute_input": "2022-03-05T16:45:56.115378Z",
     "iopub.status.idle": "2022-03-05T16:45:56.136621Z",
     "shell.execute_reply.started": "2022-03-05T16:45:56.115355Z",
     "shell.execute_reply": "2022-03-05T16:45:56.135921Z"
    },
    "trusted": true
   },
   "execution_count": 28,
   "outputs": [
    {
     "data": {
      "text/plain": "                           Name   Sex  Ticket    Cabin Embarked\ncount                       891   891     891      204      889\nunique                      891     2     681      147        3\ntop     Braund, Mr. Owen Harris  male  347082  B96 B98        S\nfreq                          1   577       7        4      644",
      "text/html": "<div>\n<style scoped>\n    .dataframe tbody tr th:only-of-type {\n        vertical-align: middle;\n    }\n\n    .dataframe tbody tr th {\n        vertical-align: top;\n    }\n\n    .dataframe thead th {\n        text-align: right;\n    }\n</style>\n<table border=\"1\" class=\"dataframe\">\n  <thead>\n    <tr style=\"text-align: right;\">\n      <th></th>\n      <th>Name</th>\n      <th>Sex</th>\n      <th>Ticket</th>\n      <th>Cabin</th>\n      <th>Embarked</th>\n    </tr>\n  </thead>\n  <tbody>\n    <tr>\n      <th>count</th>\n      <td>891</td>\n      <td>891</td>\n      <td>891</td>\n      <td>204</td>\n      <td>889</td>\n    </tr>\n    <tr>\n      <th>unique</th>\n      <td>891</td>\n      <td>2</td>\n      <td>681</td>\n      <td>147</td>\n      <td>3</td>\n    </tr>\n    <tr>\n      <th>top</th>\n      <td>Braund, Mr. Owen Harris</td>\n      <td>male</td>\n      <td>347082</td>\n      <td>B96 B98</td>\n      <td>S</td>\n    </tr>\n    <tr>\n      <th>freq</th>\n      <td>1</td>\n      <td>577</td>\n      <td>7</td>\n      <td>4</td>\n      <td>644</td>\n    </tr>\n  </tbody>\n</table>\n</div>"
     },
     "execution_count": 28,
     "metadata": {},
     "output_type": "execute_result"
    }
   ]
  },
  {
   "cell_type": "code",
   "source": [
    "train_data.isnull().sum()"
   ],
   "metadata": {
    "execution": {
     "iopub.status.busy": "2022-03-05T16:45:56.137714Z",
     "iopub.execute_input": "2022-03-05T16:45:56.138054Z",
     "iopub.status.idle": "2022-03-05T16:45:56.145195Z",
     "shell.execute_reply.started": "2022-03-05T16:45:56.138027Z",
     "shell.execute_reply": "2022-03-05T16:45:56.14453Z"
    },
    "trusted": true
   },
   "execution_count": 29,
   "outputs": [
    {
     "data": {
      "text/plain": "PassengerId      0\nSurvived         0\nPclass           0\nName             0\nSex              0\nAge            177\nSibSp            0\nParch            0\nTicket           0\nFare             0\nCabin          687\nEmbarked         2\ndtype: int64"
     },
     "execution_count": 29,
     "metadata": {},
     "output_type": "execute_result"
    }
   ]
  },
  {
   "cell_type": "code",
   "source": [
    "test_data.isnull().sum()"
   ],
   "metadata": {
    "execution": {
     "iopub.status.busy": "2022-03-05T16:45:56.146411Z",
     "iopub.execute_input": "2022-03-05T16:45:56.146648Z",
     "iopub.status.idle": "2022-03-05T16:45:56.156087Z",
     "shell.execute_reply.started": "2022-03-05T16:45:56.146621Z",
     "shell.execute_reply": "2022-03-05T16:45:56.1555Z"
    },
    "trusted": true
   },
   "execution_count": 30,
   "outputs": [
    {
     "data": {
      "text/plain": "PassengerId      0\nPclass           0\nName             0\nSex              0\nAge             86\nSibSp            0\nParch            0\nTicket           0\nFare             1\nCabin          327\nEmbarked         0\ndtype: int64"
     },
     "execution_count": 30,
     "metadata": {},
     "output_type": "execute_result"
    }
   ]
  },
  {
   "cell_type": "markdown",
   "source": [
    "# Filling missing values"
   ],
   "metadata": {}
  },
  {
   "cell_type": "code",
   "source": [
    "train_mean_ages = []\n",
    "test_mean_ages = []\n",
    "\n",
    "for n in range(1,4):\n",
    "    train_mean_ages.append(int(train_data[train_data['Pclass'] == n]['Age'].mean()))\n",
    "    test_mean_ages.append(int(test_data[test_data['Pclass'] == n]['Age'].mean()))\n",
    "\n",
    "\n",
    "mean_ages = [int((train_mean_ages[n] + test_mean_ages[n]) / 2) for n in range(3)]"
   ],
   "metadata": {
    "execution": {
     "iopub.status.busy": "2022-03-05T16:45:56.157696Z",
     "iopub.execute_input": "2022-03-05T16:45:56.158238Z",
     "iopub.status.idle": "2022-03-05T16:45:56.168525Z",
     "shell.execute_reply.started": "2022-03-05T16:45:56.158195Z",
     "shell.execute_reply": "2022-03-05T16:45:56.167934Z"
    },
    "trusted": true
   },
   "execution_count": 31,
   "outputs": []
  },
  {
   "cell_type": "code",
   "source": [
    "mean_ages"
   ],
   "metadata": {
    "execution": {
     "iopub.status.busy": "2022-03-05T16:45:56.169464Z",
     "iopub.execute_input": "2022-03-05T16:45:56.170055Z",
     "iopub.status.idle": "2022-03-05T16:45:56.17503Z",
     "shell.execute_reply.started": "2022-03-05T16:45:56.170017Z",
     "shell.execute_reply": "2022-03-05T16:45:56.174539Z"
    },
    "trusted": true
   },
   "execution_count": 32,
   "outputs": [
    {
     "data": {
      "text/plain": "[39, 28, 24]"
     },
     "execution_count": 32,
     "metadata": {},
     "output_type": "execute_result"
    }
   ]
  },
  {
   "cell_type": "code",
   "source": [
    "def fill_age(age, pclass):\n",
    "    if pd.isnull(age):\n",
    "        if pclass == 1:\n",
    "            return mean_ages[0]\n",
    "        elif pclass == 2:\n",
    "            return mean_ages[1]\n",
    "        elif pclass == 3:\n",
    "            return mean_ages[2]\n",
    "    else:\n",
    "        return age"
   ],
   "metadata": {
    "execution": {
     "iopub.status.busy": "2022-03-05T16:45:56.175882Z",
     "iopub.execute_input": "2022-03-05T16:45:56.176478Z",
     "iopub.status.idle": "2022-03-05T16:45:56.185154Z",
     "shell.execute_reply.started": "2022-03-05T16:45:56.176446Z",
     "shell.execute_reply": "2022-03-05T16:45:56.184347Z"
    },
    "trusted": true
   },
   "execution_count": 33,
   "outputs": []
  },
  {
   "cell_type": "code",
   "source": [
    "train_data['Age'] = np.vectorize(fill_age)(train_data['Age'], train_data['Pclass'])\n",
    "test_data['Age'] = np.vectorize(fill_age)(test_data['Age'], test_data['Pclass'])"
   ],
   "metadata": {
    "execution": {
     "iopub.status.busy": "2022-03-05T16:45:56.186388Z",
     "iopub.execute_input": "2022-03-05T16:45:56.187003Z",
     "iopub.status.idle": "2022-03-05T16:45:56.196514Z",
     "shell.execute_reply.started": "2022-03-05T16:45:56.186961Z",
     "shell.execute_reply": "2022-03-05T16:45:56.195722Z"
    },
    "trusted": true
   },
   "execution_count": 34,
   "outputs": []
  },
  {
   "cell_type": "code",
   "source": [
    "def cabin_presence(cabin):\n",
    "    if pd.isna(cabin):\n",
    "        return 0\n",
    "    return 1\n",
    "\n",
    "train_data['Cabin'] = np.vectorize(cabin_presence)(train_data['Cabin'])"
   ],
   "metadata": {
    "execution": {
     "iopub.status.busy": "2022-03-05T16:45:56.197649Z",
     "iopub.execute_input": "2022-03-05T16:45:56.197866Z",
     "iopub.status.idle": "2022-03-05T16:45:56.208229Z",
     "shell.execute_reply.started": "2022-03-05T16:45:56.19784Z",
     "shell.execute_reply": "2022-03-05T16:45:56.207689Z"
    },
    "trusted": true
   },
   "execution_count": 35,
   "outputs": []
  },
  {
   "cell_type": "code",
   "source": [
    "test_data['Cabin'] = np.vectorize(cabin_presence)(test_data['Cabin'])"
   ],
   "metadata": {
    "execution": {
     "iopub.status.busy": "2022-03-05T16:45:56.211622Z",
     "iopub.execute_input": "2022-03-05T16:45:56.211845Z",
     "iopub.status.idle": "2022-03-05T16:45:56.220424Z",
     "shell.execute_reply.started": "2022-03-05T16:45:56.211818Z",
     "shell.execute_reply": "2022-03-05T16:45:56.219622Z"
    },
    "trusted": true
   },
   "execution_count": 36,
   "outputs": []
  },
  {
   "cell_type": "code",
   "source": [
    "train_data['Cabin'].value_counts()"
   ],
   "metadata": {
    "execution": {
     "iopub.status.busy": "2022-03-05T16:45:56.221414Z",
     "iopub.execute_input": "2022-03-05T16:45:56.221638Z",
     "iopub.status.idle": "2022-03-05T16:45:56.231949Z",
     "shell.execute_reply.started": "2022-03-05T16:45:56.221612Z",
     "shell.execute_reply": "2022-03-05T16:45:56.231416Z"
    },
    "trusted": true
   },
   "execution_count": 37,
   "outputs": [
    {
     "data": {
      "text/plain": "0    687\n1    204\nName: Cabin, dtype: int64"
     },
     "execution_count": 37,
     "metadata": {},
     "output_type": "execute_result"
    }
   ]
  },
  {
   "cell_type": "code",
   "source": [
    "train_data = train_data.dropna()\n",
    "train_data.isnull().sum()"
   ],
   "metadata": {
    "execution": {
     "iopub.status.busy": "2022-03-05T16:45:56.233009Z",
     "iopub.execute_input": "2022-03-05T16:45:56.233307Z",
     "iopub.status.idle": "2022-03-05T16:45:56.247709Z",
     "shell.execute_reply.started": "2022-03-05T16:45:56.233282Z",
     "shell.execute_reply": "2022-03-05T16:45:56.2471Z"
    },
    "trusted": true
   },
   "execution_count": 38,
   "outputs": [
    {
     "data": {
      "text/plain": "PassengerId    0\nSurvived       0\nPclass         0\nName           0\nSex            0\nAge            0\nSibSp          0\nParch          0\nTicket         0\nFare           0\nCabin          0\nEmbarked       0\ndtype: int64"
     },
     "execution_count": 38,
     "metadata": {},
     "output_type": "execute_result"
    }
   ]
  },
  {
   "cell_type": "code",
   "source": [
    "test_data['Fare'] = test_data['Fare'].fillna(test_data['Fare'].mean())"
   ],
   "metadata": {
    "execution": {
     "iopub.status.busy": "2022-03-05T16:45:56.248523Z",
     "iopub.execute_input": "2022-03-05T16:45:56.249257Z",
     "iopub.status.idle": "2022-03-05T16:45:56.253677Z",
     "shell.execute_reply.started": "2022-03-05T16:45:56.249222Z",
     "shell.execute_reply": "2022-03-05T16:45:56.252842Z"
    },
    "trusted": true
   },
   "execution_count": 39,
   "outputs": []
  },
  {
   "cell_type": "code",
   "source": [
    "test_data.isnull().sum()"
   ],
   "metadata": {
    "execution": {
     "iopub.status.busy": "2022-03-05T16:45:56.254942Z",
     "iopub.execute_input": "2022-03-05T16:45:56.255258Z",
     "iopub.status.idle": "2022-03-05T16:45:56.266842Z",
     "shell.execute_reply.started": "2022-03-05T16:45:56.255212Z",
     "shell.execute_reply": "2022-03-05T16:45:56.266156Z"
    },
    "trusted": true
   },
   "execution_count": 40,
   "outputs": [
    {
     "data": {
      "text/plain": "PassengerId    0\nPclass         0\nName           0\nSex            0\nAge            0\nSibSp          0\nParch          0\nTicket         0\nFare           0\nCabin          0\nEmbarked       0\ndtype: int64"
     },
     "execution_count": 40,
     "metadata": {},
     "output_type": "execute_result"
    }
   ]
  },
  {
   "cell_type": "markdown",
   "source": [
    "# Getting rid of some features"
   ],
   "metadata": {}
  },
  {
   "cell_type": "code",
   "source": [
    "train_data = train_data.drop(['PassengerId', 'Name', 'Ticket'], axis=1)\n",
    "test_data = test_data.drop(['PassengerId', 'Name', 'Ticket'], axis=1)"
   ],
   "metadata": {
    "execution": {
     "iopub.status.busy": "2022-03-05T16:45:56.267959Z",
     "iopub.execute_input": "2022-03-05T16:45:56.268189Z",
     "iopub.status.idle": "2022-03-05T16:45:56.275665Z",
     "shell.execute_reply.started": "2022-03-05T16:45:56.268165Z",
     "shell.execute_reply": "2022-03-05T16:45:56.274868Z"
    },
    "trusted": true
   },
   "execution_count": 41,
   "outputs": []
  },
  {
   "cell_type": "markdown",
   "source": [
    "# Visualizations"
   ],
   "metadata": {}
  },
  {
   "cell_type": "code",
   "source": [
    "sns.heatmap(train_data.corr(), cmap='viridis', annot=True)"
   ],
   "metadata": {
    "execution": {
     "iopub.status.busy": "2022-03-05T16:45:56.2769Z",
     "iopub.execute_input": "2022-03-05T16:45:56.27793Z",
     "iopub.status.idle": "2022-03-05T16:45:56.848617Z",
     "shell.execute_reply.started": "2022-03-05T16:45:56.277823Z",
     "shell.execute_reply": "2022-03-05T16:45:56.84808Z"
    },
    "trusted": true
   },
   "execution_count": 42,
   "outputs": [
    {
     "data": {
      "text/plain": "<AxesSubplot:>"
     },
     "execution_count": 42,
     "metadata": {},
     "output_type": "execute_result"
    },
    {
     "data": {
      "text/plain": "<Figure size 432x288 with 2 Axes>",
      "image/png": "[encoded data removed]"
     },
     "metadata": {
      "needs_background": "light"
     },
     "output_type": "display_data"
    }
   ]
  },
  {
   "cell_type": "code",
   "source": [
    "sns.displot(data=train_data, x='Age', hue='Survived', multiple='stack', kde=True)"
   ],
   "metadata": {
    "execution": {
     "iopub.status.busy": "2022-03-05T16:45:56.849662Z",
     "iopub.execute_input": "2022-03-05T16:45:56.850257Z",
     "iopub.status.idle": "2022-03-05T16:45:57.540969Z",
     "shell.execute_reply.started": "2022-03-05T16:45:56.850216Z",
     "shell.execute_reply": "2022-03-05T16:45:57.540135Z"
    },
    "trusted": true
   },
   "execution_count": 43,
   "outputs": [
    {
     "data": {
      "text/plain": "<seaborn.axisgrid.FacetGrid at 0x207caf57250>"
     },
     "execution_count": 43,
     "metadata": {},
     "output_type": "execute_result"
    },
    {
     "data": {
      "text/plain": "<Figure size 411.875x360 with 1 Axes>",
      "image/png": "[encoded data removed]"
     },
     "metadata": {
      "needs_background": "light"
     },
     "output_type": "display_data"
    }
   ]
  },
  {
   "cell_type": "markdown",
   "source": [
    "# Scaling data with dummy variables"
   ],
   "metadata": {}
  },
  {
   "cell_type": "code",
   "source": [
    "from sklearn.preprocessing import StandardScaler\n",
    "from sklearn.model_selection import train_test_split"
   ],
   "metadata": {
    "execution": {
     "iopub.status.busy": "2022-03-05T16:45:57.542044Z",
     "iopub.execute_input": "2022-03-05T16:45:57.54225Z",
     "iopub.status.idle": "2022-03-05T16:45:57.558763Z",
     "shell.execute_reply.started": "2022-03-05T16:45:57.542225Z",
     "shell.execute_reply": "2022-03-05T16:45:57.55803Z"
    },
    "trusted": true
   },
   "execution_count": 44,
   "outputs": []
  },
  {
   "cell_type": "code",
   "source": [
    "X = pd.get_dummies(train_data.drop('Survived', axis=1))\n",
    "y = train_data['Survived']\n",
    "\n",
    "test_data = pd.get_dummies(test_data)"
   ],
   "metadata": {
    "execution": {
     "iopub.status.busy": "2022-03-05T16:45:57.559941Z",
     "iopub.execute_input": "2022-03-05T16:45:57.560136Z",
     "iopub.status.idle": "2022-03-05T16:45:57.576295Z",
     "shell.execute_reply.started": "2022-03-05T16:45:57.560113Z",
     "shell.execute_reply": "2022-03-05T16:45:57.575698Z"
    },
    "trusted": true
   },
   "execution_count": 45,
   "outputs": []
  },
  {
   "cell_type": "code",
   "source": [
    "X_train, X_validation, y_train, y_validation = train_test_split(X, y, test_size=0.15, random_state=101)"
   ],
   "metadata": {
    "execution": {
     "iopub.status.busy": "2022-03-05T16:45:57.5774Z",
     "iopub.execute_input": "2022-03-05T16:45:57.577639Z",
     "iopub.status.idle": "2022-03-05T16:45:57.584123Z",
     "shell.execute_reply.started": "2022-03-05T16:45:57.577609Z",
     "shell.execute_reply": "2022-03-05T16:45:57.583456Z"
    },
    "trusted": true
   },
   "execution_count": 46,
   "outputs": []
  },
  {
   "cell_type": "code",
   "source": [
    "scaler = StandardScaler()\n",
    "scaler.fit(X_train)\n",
    "scaled_X_train = scaler.transform(X_train)\n",
    "scaled_X_validation = scaler.transform(X_validation)\n",
    "scaled_X_test = scaler.transform(test_data)"
   ],
   "metadata": {
    "execution": {
     "iopub.status.busy": "2022-03-05T16:45:57.58518Z",
     "iopub.execute_input": "2022-03-05T16:45:57.585777Z",
     "iopub.status.idle": "2022-03-05T16:45:57.602833Z",
     "shell.execute_reply.started": "2022-03-05T16:45:57.585745Z",
     "shell.execute_reply": "2022-03-05T16:45:57.602176Z"
    },
    "trusted": true
   },
   "execution_count": 47,
   "outputs": []
  },
  {
   "cell_type": "markdown",
   "source": [
    "# Model selection"
   ],
   "metadata": {}
  },
  {
   "cell_type": "markdown",
   "source": [
    "**Support Vector Machines**"
   ],
   "metadata": {}
  },
  {
   "cell_type": "code",
   "source": [
    "from sklearn.svm import SVC\n",
    "from sklearn.model_selection import GridSearchCV"
   ],
   "metadata": {
    "execution": {
     "iopub.status.busy": "2022-03-05T16:45:57.603824Z",
     "iopub.execute_input": "2022-03-05T16:45:57.604408Z",
     "iopub.status.idle": "2022-03-05T16:45:57.678417Z",
     "shell.execute_reply.started": "2022-03-05T16:45:57.604379Z",
     "shell.execute_reply": "2022-03-05T16:45:57.677723Z"
    },
    "trusted": true
   },
   "execution_count": 48,
   "outputs": []
  },
  {
   "cell_type": "code",
   "source": [
    "svm = SVC(random_state=101)\n",
    "param_grid = {'C':[0.01,0.1,1],'kernel':['linear','rbf', 'poly', 'sigmoid']}\n",
    "grid = GridSearchCV(svm,param_grid)"
   ],
   "metadata": {
    "execution": {
     "iopub.status.busy": "2022-03-05T16:45:57.679779Z",
     "iopub.execute_input": "2022-03-05T16:45:57.680162Z",
     "iopub.status.idle": "2022-03-05T16:45:57.684737Z",
     "shell.execute_reply.started": "2022-03-05T16:45:57.680127Z",
     "shell.execute_reply": "2022-03-05T16:45:57.683989Z"
    },
    "trusted": true
   },
   "execution_count": 49,
   "outputs": []
  },
  {
   "cell_type": "code",
   "source": [
    "grid.fit(scaled_X_train, y_train)"
   ],
   "metadata": {
    "execution": {
     "iopub.status.busy": "2022-03-05T16:45:57.68584Z",
     "iopub.execute_input": "2022-03-05T16:45:57.686241Z",
     "iopub.status.idle": "2022-03-05T16:45:58.80762Z",
     "shell.execute_reply.started": "2022-03-05T16:45:57.686205Z",
     "shell.execute_reply": "2022-03-05T16:45:58.806946Z"
    },
    "trusted": true
   },
   "execution_count": 50,
   "outputs": [
    {
     "data": {
      "text/plain": "GridSearchCV(estimator=SVC(random_state=101),\n             param_grid={'C': [0.01, 0.1, 1],\n                         'kernel': ['linear', 'rbf', 'poly', 'sigmoid']})"
     },
     "execution_count": 50,
     "metadata": {},
     "output_type": "execute_result"
    }
   ]
  },
  {
   "cell_type": "code",
   "source": [
    "grid.best_score_"
   ],
   "metadata": {
    "execution": {
     "iopub.status.busy": "2022-03-05T16:45:58.808754Z",
     "iopub.execute_input": "2022-03-05T16:45:58.809357Z",
     "iopub.status.idle": "2022-03-05T16:45:58.813991Z",
     "shell.execute_reply.started": "2022-03-05T16:45:58.809325Z",
     "shell.execute_reply": "2022-03-05T16:45:58.813455Z"
    },
    "trusted": true
   },
   "execution_count": 51,
   "outputs": [
    {
     "data": {
      "text/plain": "0.8132450331125828"
     },
     "execution_count": 51,
     "metadata": {},
     "output_type": "execute_result"
    }
   ]
  },
  {
   "cell_type": "code",
   "source": [
    "grid.best_params_"
   ],
   "metadata": {
    "execution": {
     "iopub.status.busy": "2022-03-05T16:45:58.814998Z",
     "iopub.execute_input": "2022-03-05T16:45:58.815433Z",
     "iopub.status.idle": "2022-03-05T16:45:58.824947Z",
     "shell.execute_reply.started": "2022-03-05T16:45:58.815393Z",
     "shell.execute_reply": "2022-03-05T16:45:58.824389Z"
    },
    "trusted": true
   },
   "execution_count": 52,
   "outputs": [
    {
     "data": {
      "text/plain": "{'C': 1, 'kernel': 'poly'}"
     },
     "execution_count": 52,
     "metadata": {},
     "output_type": "execute_result"
    }
   ]
  },
  {
   "cell_type": "code",
   "source": [
    "svm_predictions = grid.predict(scaled_X_validation)"
   ],
   "metadata": {
    "execution": {
     "iopub.status.busy": "2022-03-05T16:45:58.825993Z",
     "iopub.execute_input": "2022-03-05T16:45:58.826702Z",
     "iopub.status.idle": "2022-03-05T16:45:58.836962Z",
     "shell.execute_reply.started": "2022-03-05T16:45:58.826671Z",
     "shell.execute_reply": "2022-03-05T16:45:58.836401Z"
    },
    "trusted": true
   },
   "execution_count": 53,
   "outputs": []
  },
  {
   "cell_type": "code",
   "source": [
    "from sklearn.metrics import classification_report, ConfusionMatrixDisplay, accuracy_score"
   ],
   "metadata": {
    "execution": {
     "iopub.status.busy": "2022-03-05T16:45:58.838321Z",
     "iopub.execute_input": "2022-03-05T16:45:58.838689Z",
     "iopub.status.idle": "2022-03-05T16:45:58.84399Z",
     "shell.execute_reply.started": "2022-03-05T16:45:58.838644Z",
     "shell.execute_reply": "2022-03-05T16:45:58.843285Z"
    },
    "trusted": true
   },
   "execution_count": 54,
   "outputs": []
  },
  {
   "cell_type": "code",
   "source": [
    "print(classification_report(y_validation, svm_predictions))"
   ],
   "metadata": {
    "execution": {
     "iopub.status.busy": "2022-03-05T16:45:58.844978Z",
     "iopub.execute_input": "2022-03-05T16:45:58.84516Z",
     "iopub.status.idle": "2022-03-05T16:45:58.859022Z",
     "shell.execute_reply.started": "2022-03-05T16:45:58.845137Z",
     "shell.execute_reply": "2022-03-05T16:45:58.858365Z"
    },
    "trusted": true
   },
   "execution_count": 55,
   "outputs": [
    {
     "name": "stdout",
     "output_type": "stream",
     "text": [
      "              precision    recall  f1-score   support\n",
      "\n",
      "           0       0.77      0.92      0.84        76\n",
      "           1       0.86      0.64      0.73        58\n",
      "\n",
      "    accuracy                           0.80       134\n",
      "   macro avg       0.81      0.78      0.79       134\n",
      "weighted avg       0.81      0.80      0.79       134\n",
      "\n"
     ]
    }
   ]
  },
  {
   "cell_type": "code",
   "source": [
    "ConfusionMatrixDisplay.from_predictions(y_validation, svm_predictions)"
   ],
   "metadata": {
    "execution": {
     "iopub.status.busy": "2022-03-05T16:45:58.860485Z",
     "iopub.execute_input": "2022-03-05T16:45:58.860747Z",
     "iopub.status.idle": "2022-03-05T16:45:59.092064Z",
     "shell.execute_reply.started": "2022-03-05T16:45:58.860719Z",
     "shell.execute_reply": "2022-03-05T16:45:59.091404Z"
    },
    "trusted": true
   },
   "execution_count": 56,
   "outputs": [
    {
     "data": {
      "text/plain": "<sklearn.metrics._plot.confusion_matrix.ConfusionMatrixDisplay at 0x207cbecf0d0>"
     },
     "execution_count": 56,
     "metadata": {},
     "output_type": "execute_result"
    },
    {
     "data": {
      "text/plain": "<Figure size 432x288 with 2 Axes>",
      "image/png": "[encoded data removed]"
     },
     "metadata": {
      "needs_background": "light"
     },
     "output_type": "display_data"
    }
   ]
  },
  {
   "cell_type": "code",
   "source": [
    "print(f'SVM accuracy: {accuracy_score(y_validation, svm_predictions)}')"
   ],
   "metadata": {
    "execution": {
     "iopub.status.busy": "2022-03-05T16:45:59.093167Z",
     "iopub.execute_input": "2022-03-05T16:45:59.093344Z",
     "iopub.status.idle": "2022-03-05T16:45:59.099498Z",
     "shell.execute_reply.started": "2022-03-05T16:45:59.093321Z",
     "shell.execute_reply": "2022-03-05T16:45:59.098705Z"
    },
    "trusted": true
   },
   "execution_count": 57,
   "outputs": [
    {
     "name": "stdout",
     "output_type": "stream",
     "text": [
      "SVM accuracy: 0.7985074626865671\n"
     ]
    }
   ]
  },
  {
   "cell_type": "markdown",
   "source": [
    "**K Nearest Neighbours**"
   ],
   "metadata": {}
  },
  {
   "cell_type": "code",
   "source": [
    "from sklearn.neighbors import KNeighborsClassifier\n",
    "\n",
    "knn = KNeighborsClassifier()\n",
    "knn.get_params().keys()"
   ],
   "metadata": {
    "execution": {
     "iopub.status.busy": "2022-03-05T16:45:59.100462Z",
     "iopub.execute_input": "2022-03-05T16:45:59.100704Z",
     "iopub.status.idle": "2022-03-05T16:45:59.159319Z",
     "shell.execute_reply.started": "2022-03-05T16:45:59.100677Z",
     "shell.execute_reply": "2022-03-05T16:45:59.158618Z"
    },
    "trusted": true
   },
   "execution_count": 58,
   "outputs": [
    {
     "data": {
      "text/plain": "dict_keys(['algorithm', 'leaf_size', 'metric', 'metric_params', 'n_jobs', 'n_neighbors', 'p', 'weights'])"
     },
     "execution_count": 58,
     "metadata": {},
     "output_type": "execute_result"
    }
   ]
  },
  {
   "cell_type": "code",
   "source": [
    "k_values = list(range(1,20))\n",
    "param_grid = {'n_neighbors': k_values}"
   ],
   "metadata": {
    "execution": {
     "iopub.status.busy": "2022-03-05T16:45:59.160662Z",
     "iopub.execute_input": "2022-03-05T16:45:59.161258Z",
     "iopub.status.idle": "2022-03-05T16:45:59.165082Z",
     "shell.execute_reply.started": "2022-03-05T16:45:59.161211Z",
     "shell.execute_reply": "2022-03-05T16:45:59.164574Z"
    },
    "trusted": true
   },
   "execution_count": 59,
   "outputs": []
  },
  {
   "cell_type": "code",
   "source": [
    "full_cv_classifier = GridSearchCV(knn, param_grid, cv=5,scoring='accuracy')"
   ],
   "metadata": {
    "execution": {
     "iopub.status.busy": "2022-03-05T16:45:59.166046Z",
     "iopub.execute_input": "2022-03-05T16:45:59.166782Z",
     "iopub.status.idle": "2022-03-05T16:45:59.175786Z",
     "shell.execute_reply.started": "2022-03-05T16:45:59.166749Z",
     "shell.execute_reply": "2022-03-05T16:45:59.175016Z"
    },
    "trusted": true
   },
   "execution_count": 60,
   "outputs": []
  },
  {
   "cell_type": "code",
   "source": [
    "full_cv_classifier.fit(scaled_X_train,y_train)"
   ],
   "metadata": {
    "execution": {
     "iopub.status.busy": "2022-03-05T16:45:59.17674Z",
     "iopub.execute_input": "2022-03-05T16:45:59.177275Z",
     "iopub.status.idle": "2022-03-05T16:46:00.062861Z",
     "shell.execute_reply.started": "2022-03-05T16:45:59.177246Z",
     "shell.execute_reply": "2022-03-05T16:46:00.062064Z"
    },
    "trusted": true
   },
   "execution_count": 61,
   "outputs": [
    {
     "data": {
      "text/plain": "GridSearchCV(cv=5, estimator=KNeighborsClassifier(),\n             param_grid={'n_neighbors': [1, 2, 3, 4, 5, 6, 7, 8, 9, 10, 11, 12,\n                                         13, 14, 15, 16, 17, 18, 19]},\n             scoring='accuracy')"
     },
     "execution_count": 61,
     "metadata": {},
     "output_type": "execute_result"
    }
   ]
  },
  {
   "cell_type": "code",
   "source": [
    "full_cv_classifier.best_estimator_.get_params()"
   ],
   "metadata": {
    "execution": {
     "iopub.status.busy": "2022-03-05T16:46:00.063962Z",
     "iopub.execute_input": "2022-03-05T16:46:00.064187Z",
     "iopub.status.idle": "2022-03-05T16:46:00.06992Z",
     "shell.execute_reply.started": "2022-03-05T16:46:00.064163Z",
     "shell.execute_reply": "2022-03-05T16:46:00.069089Z"
    },
    "trusted": true
   },
   "execution_count": 62,
   "outputs": [
    {
     "data": {
      "text/plain": "{'algorithm': 'auto',\n 'leaf_size': 30,\n 'metric': 'minkowski',\n 'metric_params': None,\n 'n_jobs': None,\n 'n_neighbors': 14,\n 'p': 2,\n 'weights': 'uniform'}"
     },
     "execution_count": 62,
     "metadata": {},
     "output_type": "execute_result"
    }
   ]
  },
  {
   "cell_type": "code",
   "source": [
    "knn_predictions = full_cv_classifier.predict(scaled_X_validation)"
   ],
   "metadata": {
    "execution": {
     "iopub.status.busy": "2022-03-05T16:46:00.075487Z",
     "iopub.execute_input": "2022-03-05T16:46:00.075831Z",
     "iopub.status.idle": "2022-03-05T16:46:00.087388Z",
     "shell.execute_reply.started": "2022-03-05T16:46:00.075803Z",
     "shell.execute_reply": "2022-03-05T16:46:00.086761Z"
    },
    "trusted": true
   },
   "execution_count": 63,
   "outputs": []
  },
  {
   "cell_type": "code",
   "source": [
    "print(classification_report(y_validation, knn_predictions))"
   ],
   "metadata": {
    "execution": {
     "iopub.status.busy": "2022-03-05T16:46:00.088556Z",
     "iopub.execute_input": "2022-03-05T16:46:00.088803Z",
     "iopub.status.idle": "2022-03-05T16:46:00.09756Z",
     "shell.execute_reply.started": "2022-03-05T16:46:00.088773Z",
     "shell.execute_reply": "2022-03-05T16:46:00.096982Z"
    },
    "trusted": true
   },
   "execution_count": 64,
   "outputs": [
    {
     "name": "stdout",
     "output_type": "stream",
     "text": [
      "              precision    recall  f1-score   support\n",
      "\n",
      "           0       0.80      0.92      0.85        76\n",
      "           1       0.87      0.69      0.77        58\n",
      "\n",
      "    accuracy                           0.82       134\n",
      "   macro avg       0.83      0.81      0.81       134\n",
      "weighted avg       0.83      0.82      0.82       134\n",
      "\n"
     ]
    }
   ]
  },
  {
   "cell_type": "code",
   "source": [
    "ConfusionMatrixDisplay.from_predictions(y_validation, knn_predictions)"
   ],
   "metadata": {
    "execution": {
     "iopub.status.busy": "2022-03-05T16:46:00.09835Z",
     "iopub.execute_input": "2022-03-05T16:46:00.098819Z",
     "iopub.status.idle": "2022-03-05T16:46:00.324941Z",
     "shell.execute_reply.started": "2022-03-05T16:46:00.098786Z",
     "shell.execute_reply": "2022-03-05T16:46:00.324249Z"
    },
    "trusted": true
   },
   "execution_count": 65,
   "outputs": [
    {
     "data": {
      "text/plain": "<sklearn.metrics._plot.confusion_matrix.ConfusionMatrixDisplay at 0x207cd0f1150>"
     },
     "execution_count": 65,
     "metadata": {},
     "output_type": "execute_result"
    },
    {
     "data": {
      "text/plain": "<Figure size 432x288 with 2 Axes>",
      "image/png": "[encoded data removed]"
     },
     "metadata": {
      "needs_background": "light"
     },
     "output_type": "display_data"
    }
   ]
  },
  {
   "cell_type": "code",
   "source": [
    "print(f'KNN accuracy: {accuracy_score(y_validation, knn_predictions)}')"
   ],
   "metadata": {
    "execution": {
     "iopub.status.busy": "2022-03-05T16:46:00.325894Z",
     "iopub.execute_input": "2022-03-05T16:46:00.32664Z",
     "iopub.status.idle": "2022-03-05T16:46:00.332294Z",
     "shell.execute_reply.started": "2022-03-05T16:46:00.326608Z",
     "shell.execute_reply": "2022-03-05T16:46:00.331156Z"
    },
    "trusted": true
   },
   "execution_count": 66,
   "outputs": [
    {
     "name": "stdout",
     "output_type": "stream",
     "text": [
      "KNN accuracy: 0.8208955223880597\n"
     ]
    }
   ]
  },
  {
   "cell_type": "markdown",
   "source": [
    "**Ensemble Models**"
   ],
   "metadata": {}
  },
  {
   "cell_type": "markdown",
   "source": [
    "**Random Forest Classifier**"
   ],
   "metadata": {}
  },
  {
   "cell_type": "code",
   "source": [
    "n_estimators=[64,100,128,200]\n",
    "max_features= [2,3,4]\n",
    "bootstrap = [True,False]\n",
    "oob_score = [True,False]\n",
    "\n",
    "param_grid = {'n_estimators':n_estimators,\n",
    "             'max_features':max_features,\n",
    "             'bootstrap':bootstrap,\n",
    "             'oob_score':oob_score}"
   ],
   "metadata": {
    "execution": {
     "iopub.status.busy": "2022-03-05T16:46:00.333661Z",
     "iopub.execute_input": "2022-03-05T16:46:00.333921Z",
     "iopub.status.idle": "2022-03-05T16:46:00.3418Z",
     "shell.execute_reply.started": "2022-03-05T16:46:00.333894Z",
     "shell.execute_reply": "2022-03-05T16:46:00.340767Z"
    },
    "trusted": true
   },
   "execution_count": 67,
   "outputs": []
  },
  {
   "cell_type": "code",
   "source": [
    "from sklearn.ensemble import RandomForestClassifier\n",
    "\n",
    "rfc = RandomForestClassifier(random_state=101)\n",
    "grid = GridSearchCV(rfc,param_grid)"
   ],
   "metadata": {
    "execution": {
     "iopub.status.busy": "2022-03-05T16:46:00.343031Z",
     "iopub.execute_input": "2022-03-05T16:46:00.343432Z",
     "iopub.status.idle": "2022-03-05T16:46:00.556427Z",
     "shell.execute_reply.started": "2022-03-05T16:46:00.34339Z",
     "shell.execute_reply": "2022-03-05T16:46:00.555728Z"
    },
    "trusted": true
   },
   "execution_count": 68,
   "outputs": []
  },
  {
   "cell_type": "code",
   "source": [
    "grid.fit(scaled_X_train, y_train)"
   ],
   "metadata": {
    "execution": {
     "iopub.status.busy": "2022-03-05T16:46:00.558522Z",
     "iopub.execute_input": "2022-03-05T16:46:00.558838Z",
     "iopub.status.idle": "2022-03-05T16:46:48.652505Z",
     "shell.execute_reply.started": "2022-03-05T16:46:00.558799Z",
     "shell.execute_reply": "2022-03-05T16:46:48.651795Z"
    },
    "trusted": true
   },
   "execution_count": 69,
   "outputs": [
    {
     "name": "stderr",
     "output_type": "stream",
     "text": [
      "c:\\users\\polcz\\desktop\\kaggle competitions\\venv\\lib\\site-packages\\sklearn\\model_selection\\_validation.py:372: FitFailedWarning: \n",
      "60 fits failed out of a total of 240.\n",
      "The score on these train-test partitions for these parameters will be set to nan.\n",
      "If these failures are not expected, you can try to debug them by setting error_score='raise'.\n",
      "\n",
      "Below are more details about the failures:\n",
      "--------------------------------------------------------------------------------\n",
      "60 fits failed with the following error:\n",
      "Traceback (most recent call last):\n",
      "  File \"c:\\users\\polcz\\desktop\\kaggle competitions\\venv\\lib\\site-packages\\sklearn\\model_selection\\_validation.py\", line 680, in _fit_and_score\n",
      "    estimator.fit(X_train, y_train, **fit_params)\n",
      "  File \"c:\\users\\polcz\\desktop\\kaggle competitions\\venv\\lib\\site-packages\\sklearn\\ensemble\\_forest.py\", line 411, in fit\n",
      "    raise ValueError(\"Out of bag estimation only available if bootstrap=True\")\n",
      "ValueError: Out of bag estimation only available if bootstrap=True\n",
      "\n",
      "  warnings.warn(some_fits_failed_message, FitFailedWarning)\n",
      "c:\\users\\polcz\\desktop\\kaggle competitions\\venv\\lib\\site-packages\\sklearn\\model_selection\\_search.py:969: UserWarning: One or more of the test scores are non-finite: [0.81059603 0.81059603 0.81059603 0.81059603 0.80794702 0.80794702\n",
      " 0.81589404 0.81589404 0.81059603 0.81059603 0.81059603 0.81059603\n",
      " 0.80794702 0.80794702 0.81589404 0.81589404 0.81456954 0.81456954\n",
      " 0.81456954 0.81456954 0.81192053 0.81192053 0.81456954 0.81456954\n",
      "        nan 0.80794702        nan 0.80794702        nan 0.80397351\n",
      "        nan 0.80662252        nan 0.81456954        nan 0.81059603\n",
      "        nan 0.81059603        nan 0.80927152        nan 0.80397351\n",
      "        nan 0.81192053        nan 0.81059603        nan 0.81059603]\n",
      "  warnings.warn(\n"
     ]
    },
    {
     "data": {
      "text/plain": "GridSearchCV(estimator=RandomForestClassifier(random_state=101),\n             param_grid={'bootstrap': [True, False], 'max_features': [2, 3, 4],\n                         'n_estimators': [64, 100, 128, 200],\n                         'oob_score': [True, False]})"
     },
     "execution_count": 69,
     "metadata": {},
     "output_type": "execute_result"
    }
   ]
  },
  {
   "cell_type": "code",
   "source": [
    "grid.best_params_"
   ],
   "metadata": {
    "execution": {
     "iopub.status.busy": "2022-03-05T16:46:48.65381Z",
     "iopub.execute_input": "2022-03-05T16:46:48.654012Z",
     "iopub.status.idle": "2022-03-05T16:46:48.659337Z",
     "shell.execute_reply.started": "2022-03-05T16:46:48.653987Z",
     "shell.execute_reply": "2022-03-05T16:46:48.658535Z"
    },
    "trusted": true
   },
   "execution_count": 70,
   "outputs": [
    {
     "data": {
      "text/plain": "{'bootstrap': True, 'max_features': 2, 'n_estimators': 200, 'oob_score': True}"
     },
     "execution_count": 70,
     "metadata": {},
     "output_type": "execute_result"
    }
   ]
  },
  {
   "cell_type": "code",
   "source": [
    "rfc_predictions = grid.predict(scaled_X_validation)"
   ],
   "metadata": {
    "execution": {
     "iopub.status.busy": "2022-03-05T16:46:48.660565Z",
     "iopub.execute_input": "2022-03-05T16:46:48.660808Z",
     "iopub.status.idle": "2022-03-05T16:46:48.699164Z",
     "shell.execute_reply.started": "2022-03-05T16:46:48.660781Z",
     "shell.execute_reply": "2022-03-05T16:46:48.69836Z"
    },
    "trusted": true
   },
   "execution_count": 71,
   "outputs": []
  },
  {
   "cell_type": "code",
   "source": [
    "print(classification_report(y_validation, rfc_predictions))"
   ],
   "metadata": {
    "execution": {
     "iopub.status.busy": "2022-03-05T16:46:48.700434Z",
     "iopub.execute_input": "2022-03-05T16:46:48.700667Z",
     "iopub.status.idle": "2022-03-05T16:46:48.711939Z",
     "shell.execute_reply.started": "2022-03-05T16:46:48.70064Z",
     "shell.execute_reply": "2022-03-05T16:46:48.71124Z"
    },
    "trusted": true
   },
   "execution_count": 72,
   "outputs": [
    {
     "name": "stdout",
     "output_type": "stream",
     "text": [
      "              precision    recall  f1-score   support\n",
      "\n",
      "           0       0.84      0.84      0.84        76\n",
      "           1       0.79      0.79      0.79        58\n",
      "\n",
      "    accuracy                           0.82       134\n",
      "   macro avg       0.82      0.82      0.82       134\n",
      "weighted avg       0.82      0.82      0.82       134\n",
      "\n"
     ]
    }
   ]
  },
  {
   "cell_type": "code",
   "source": [
    "ConfusionMatrixDisplay.from_predictions(y_validation, rfc_predictions)"
   ],
   "metadata": {
    "execution": {
     "iopub.status.busy": "2022-03-05T16:46:48.713062Z",
     "iopub.execute_input": "2022-03-05T16:46:48.713425Z",
     "iopub.status.idle": "2022-03-05T16:46:48.942069Z",
     "shell.execute_reply.started": "2022-03-05T16:46:48.713396Z",
     "shell.execute_reply": "2022-03-05T16:46:48.94157Z"
    },
    "trusted": true
   },
   "execution_count": 73,
   "outputs": [
    {
     "data": {
      "text/plain": "<sklearn.metrics._plot.confusion_matrix.ConfusionMatrixDisplay at 0x207cd28ebf0>"
     },
     "execution_count": 73,
     "metadata": {},
     "output_type": "execute_result"
    },
    {
     "data": {
      "text/plain": "<Figure size 432x288 with 2 Axes>",
      "image/png": "[encoded data removed]"
     },
     "metadata": {
      "needs_background": "light"
     },
     "output_type": "display_data"
    }
   ]
  },
  {
   "cell_type": "code",
   "source": [
    "print(f'RFC accuracy: {accuracy_score(y_validation, rfc_predictions)}')"
   ],
   "metadata": {
    "execution": {
     "iopub.status.busy": "2022-03-05T16:46:48.943227Z",
     "iopub.execute_input": "2022-03-05T16:46:48.943465Z",
     "iopub.status.idle": "2022-03-05T16:46:48.949186Z",
     "shell.execute_reply.started": "2022-03-05T16:46:48.943435Z",
     "shell.execute_reply": "2022-03-05T16:46:48.948264Z"
    },
    "trusted": true
   },
   "execution_count": 74,
   "outputs": [
    {
     "name": "stdout",
     "output_type": "stream",
     "text": [
      "RFC accuracy: 0.8208955223880597\n"
     ]
    }
   ]
  },
  {
   "cell_type": "markdown",
   "source": [
    "**GradientBoostingClassifier**"
   ],
   "metadata": {}
  },
  {
   "cell_type": "code",
   "source": [
    "from sklearn.ensemble import GradientBoostingClassifier"
   ],
   "metadata": {
    "execution": {
     "iopub.status.busy": "2022-03-05T16:46:48.950486Z",
     "iopub.execute_input": "2022-03-05T16:46:48.950907Z",
     "iopub.status.idle": "2022-03-05T16:46:48.96103Z",
     "shell.execute_reply.started": "2022-03-05T16:46:48.950877Z",
     "shell.execute_reply": "2022-03-05T16:46:48.960422Z"
    },
    "trusted": true
   },
   "execution_count": 75,
   "outputs": []
  },
  {
   "cell_type": "code",
   "source": [
    "param_grid = {\"n_estimators\":[1,5,10,20,40,100],'max_depth':[3,4,5,6]}\n",
    "gb_model = GradientBoostingClassifier(random_state=101)\n",
    "grid = GridSearchCV(gb_model,param_grid)\n",
    "grid.fit(scaled_X_train,y_train)"
   ],
   "metadata": {
    "execution": {
     "iopub.status.busy": "2022-03-05T16:46:48.961982Z",
     "iopub.execute_input": "2022-03-05T16:46:48.962683Z",
     "iopub.status.idle": "2022-03-05T16:46:55.071932Z",
     "shell.execute_reply.started": "2022-03-05T16:46:48.962653Z",
     "shell.execute_reply": "2022-03-05T16:46:55.071144Z"
    },
    "trusted": true
   },
   "execution_count": 76,
   "outputs": [
    {
     "data": {
      "text/plain": "GridSearchCV(estimator=GradientBoostingClassifier(random_state=101),\n             param_grid={'max_depth': [3, 4, 5, 6],\n                         'n_estimators': [1, 5, 10, 20, 40, 100]})"
     },
     "execution_count": 76,
     "metadata": {},
     "output_type": "execute_result"
    }
   ]
  },
  {
   "cell_type": "code",
   "source": [
    "grid.best_params_"
   ],
   "metadata": {
    "execution": {
     "iopub.status.busy": "2022-03-05T16:46:55.073057Z",
     "iopub.execute_input": "2022-03-05T16:46:55.073326Z",
     "iopub.status.idle": "2022-03-05T16:46:55.07924Z",
     "shell.execute_reply.started": "2022-03-05T16:46:55.073296Z",
     "shell.execute_reply": "2022-03-05T16:46:55.078485Z"
    },
    "trusted": true
   },
   "execution_count": 77,
   "outputs": [
    {
     "data": {
      "text/plain": "{'max_depth': 4, 'n_estimators': 40}"
     },
     "execution_count": 77,
     "metadata": {},
     "output_type": "execute_result"
    }
   ]
  },
  {
   "cell_type": "code",
   "source": [
    "gbc_predictions = grid.predict(scaled_X_validation)"
   ],
   "metadata": {
    "execution": {
     "iopub.status.busy": "2022-03-05T16:46:55.080432Z",
     "iopub.execute_input": "2022-03-05T16:46:55.081311Z",
     "iopub.status.idle": "2022-03-05T16:46:55.091084Z",
     "shell.execute_reply.started": "2022-03-05T16:46:55.081267Z",
     "shell.execute_reply": "2022-03-05T16:46:55.09028Z"
    },
    "trusted": true
   },
   "execution_count": 78,
   "outputs": []
  },
  {
   "cell_type": "code",
   "source": [
    "print(classification_report(y_validation, gbc_predictions))"
   ],
   "metadata": {
    "execution": {
     "iopub.status.busy": "2022-03-05T16:46:55.092243Z",
     "iopub.execute_input": "2022-03-05T16:46:55.092565Z",
     "iopub.status.idle": "2022-03-05T16:46:55.106407Z",
     "shell.execute_reply.started": "2022-03-05T16:46:55.092524Z",
     "shell.execute_reply": "2022-03-05T16:46:55.105534Z"
    },
    "trusted": true
   },
   "execution_count": 79,
   "outputs": [
    {
     "name": "stdout",
     "output_type": "stream",
     "text": [
      "              precision    recall  f1-score   support\n",
      "\n",
      "           0       0.85      0.89      0.87        76\n",
      "           1       0.85      0.79      0.82        58\n",
      "\n",
      "    accuracy                           0.85       134\n",
      "   macro avg       0.85      0.84      0.85       134\n",
      "weighted avg       0.85      0.85      0.85       134\n",
      "\n"
     ]
    }
   ]
  },
  {
   "cell_type": "code",
   "source": [
    "ConfusionMatrixDisplay.from_predictions(y_validation, gbc_predictions)"
   ],
   "metadata": {
    "execution": {
     "iopub.status.busy": "2022-03-05T16:46:55.107766Z",
     "iopub.execute_input": "2022-03-05T16:46:55.108173Z",
     "iopub.status.idle": "2022-03-05T16:46:55.34138Z",
     "shell.execute_reply.started": "2022-03-05T16:46:55.108137Z",
     "shell.execute_reply": "2022-03-05T16:46:55.340487Z"
    },
    "trusted": true
   },
   "execution_count": 80,
   "outputs": [
    {
     "data": {
      "text/plain": "<sklearn.metrics._plot.confusion_matrix.ConfusionMatrixDisplay at 0x207cd4bc760>"
     },
     "execution_count": 80,
     "metadata": {},
     "output_type": "execute_result"
    },
    {
     "data": {
      "text/plain": "<Figure size 432x288 with 2 Axes>",
      "image/png": "[encoded data removed]"
     },
     "metadata": {
      "needs_background": "light"
     },
     "output_type": "display_data"
    }
   ]
  },
  {
   "cell_type": "code",
   "source": [
    "print(f'GBC accuracy: {accuracy_score(y_validation, gbc_predictions)}')"
   ],
   "metadata": {
    "execution": {
     "iopub.status.busy": "2022-03-05T16:46:55.343035Z",
     "iopub.execute_input": "2022-03-05T16:46:55.343336Z",
     "iopub.status.idle": "2022-03-05T16:46:55.359276Z",
     "shell.execute_reply.started": "2022-03-05T16:46:55.343295Z",
     "shell.execute_reply": "2022-03-05T16:46:55.348601Z"
    },
    "trusted": true
   },
   "execution_count": 81,
   "outputs": [
    {
     "name": "stdout",
     "output_type": "stream",
     "text": [
      "GBC accuracy: 0.8507462686567164\n"
     ]
    }
   ]
  },
  {
   "cell_type": "markdown",
   "source": [
    "# Tuning GradientBoostingClassifier"
   ],
   "metadata": {}
  },
  {
   "cell_type": "code",
   "source": [
    "param_grid = {\"n_estimators\": np.arange(20, 80, 5),'max_depth':[4]}\n",
    "gb_model = GradientBoostingClassifier(random_state=101)\n",
    "grid = GridSearchCV(gb_model,param_grid)\n",
    "grid.fit(scaled_X_train,y_train)"
   ],
   "metadata": {
    "execution": {
     "iopub.status.busy": "2022-03-05T16:46:55.361094Z",
     "iopub.execute_input": "2022-03-05T16:46:55.361419Z",
     "iopub.status.idle": "2022-03-05T16:46:59.360288Z",
     "shell.execute_reply.started": "2022-03-05T16:46:55.361372Z",
     "shell.execute_reply": "2022-03-05T16:46:59.359467Z"
    },
    "trusted": true
   },
   "execution_count": 82,
   "outputs": [
    {
     "data": {
      "text/plain": "GridSearchCV(estimator=GradientBoostingClassifier(random_state=101),\n             param_grid={'max_depth': [4],\n                         'n_estimators': array([20, 25, 30, 35, 40, 45, 50, 55, 60, 65, 70, 75])})"
     },
     "execution_count": 82,
     "metadata": {},
     "output_type": "execute_result"
    }
   ]
  },
  {
   "cell_type": "code",
   "source": [
    "grid.best_params_"
   ],
   "metadata": {
    "execution": {
     "iopub.status.busy": "2022-03-05T16:46:59.361663Z",
     "iopub.execute_input": "2022-03-05T16:46:59.361961Z",
     "iopub.status.idle": "2022-03-05T16:46:59.368497Z",
     "shell.execute_reply.started": "2022-03-05T16:46:59.361921Z",
     "shell.execute_reply": "2022-03-05T16:46:59.367542Z"
    },
    "trusted": true
   },
   "execution_count": 83,
   "outputs": [
    {
     "data": {
      "text/plain": "{'max_depth': 4, 'n_estimators': 40}"
     },
     "execution_count": 83,
     "metadata": {},
     "output_type": "execute_result"
    }
   ]
  },
  {
   "cell_type": "code",
   "source": [
    "param_grid = {\"n_estimators\": np.arange(30, 51),'max_depth':[4]}\n",
    "gb_model = GradientBoostingClassifier(random_state=101)\n",
    "grid = GridSearchCV(gb_model,param_grid)\n",
    "grid.fit(scaled_X_train,y_train)"
   ],
   "metadata": {
    "execution": {
     "iopub.status.busy": "2022-03-05T16:46:59.369833Z",
     "iopub.execute_input": "2022-03-05T16:46:59.370256Z",
     "iopub.status.idle": "2022-03-05T16:47:05.184288Z",
     "shell.execute_reply.started": "2022-03-05T16:46:59.370211Z",
     "shell.execute_reply": "2022-03-05T16:47:05.183417Z"
    },
    "trusted": true
   },
   "execution_count": 84,
   "outputs": [
    {
     "data": {
      "text/plain": "GridSearchCV(estimator=GradientBoostingClassifier(random_state=101),\n             param_grid={'max_depth': [4],\n                         'n_estimators': array([30, 31, 32, 33, 34, 35, 36, 37, 38, 39, 40, 41, 42, 43, 44, 45, 46,\n       47, 48, 49, 50])})"
     },
     "execution_count": 84,
     "metadata": {},
     "output_type": "execute_result"
    }
   ]
  },
  {
   "cell_type": "code",
   "source": [
    "grid.best_params_"
   ],
   "metadata": {
    "execution": {
     "iopub.status.busy": "2022-03-05T16:47:05.186004Z",
     "iopub.execute_input": "2022-03-05T16:47:05.186311Z",
     "iopub.status.idle": "2022-03-05T16:47:05.192537Z",
     "shell.execute_reply.started": "2022-03-05T16:47:05.186271Z",
     "shell.execute_reply": "2022-03-05T16:47:05.19161Z"
    },
    "trusted": true
   },
   "execution_count": 85,
   "outputs": [
    {
     "data": {
      "text/plain": "{'max_depth': 4, 'n_estimators': 38}"
     },
     "execution_count": 85,
     "metadata": {},
     "output_type": "execute_result"
    }
   ]
  },
  {
   "cell_type": "code",
   "source": [
    "gbc_predictions = grid.predict(scaled_X_validation)"
   ],
   "metadata": {
    "execution": {
     "iopub.status.busy": "2022-03-05T16:47:05.19383Z",
     "iopub.execute_input": "2022-03-05T16:47:05.194131Z",
     "iopub.status.idle": "2022-03-05T16:47:05.202732Z",
     "shell.execute_reply.started": "2022-03-05T16:47:05.194095Z",
     "shell.execute_reply": "2022-03-05T16:47:05.201997Z"
    },
    "trusted": true
   },
   "execution_count": 86,
   "outputs": []
  },
  {
   "cell_type": "code",
   "source": [
    "print(classification_report(y_validation, gbc_predictions))"
   ],
   "metadata": {
    "execution": {
     "iopub.status.busy": "2022-03-05T16:47:05.20354Z",
     "iopub.execute_input": "2022-03-05T16:47:05.203765Z",
     "iopub.status.idle": "2022-03-05T16:47:05.22038Z",
     "shell.execute_reply.started": "2022-03-05T16:47:05.203739Z",
     "shell.execute_reply": "2022-03-05T16:47:05.219517Z"
    },
    "trusted": true
   },
   "execution_count": 87,
   "outputs": [
    {
     "name": "stdout",
     "output_type": "stream",
     "text": [
      "              precision    recall  f1-score   support\n",
      "\n",
      "           0       0.85      0.88      0.86        76\n",
      "           1       0.84      0.79      0.81        58\n",
      "\n",
      "    accuracy                           0.84       134\n",
      "   macro avg       0.84      0.84      0.84       134\n",
      "weighted avg       0.84      0.84      0.84       134\n",
      "\n"
     ]
    }
   ]
  },
  {
   "cell_type": "code",
   "source": [
    "ConfusionMatrixDisplay.from_predictions(y_validation, gbc_predictions)"
   ],
   "metadata": {
    "execution": {
     "iopub.status.busy": "2022-03-05T16:47:05.221647Z",
     "iopub.execute_input": "2022-03-05T16:47:05.22189Z",
     "iopub.status.idle": "2022-03-05T16:47:05.44864Z",
     "shell.execute_reply.started": "2022-03-05T16:47:05.221862Z",
     "shell.execute_reply": "2022-03-05T16:47:05.447868Z"
    },
    "trusted": true
   },
   "execution_count": 88,
   "outputs": [
    {
     "data": {
      "text/plain": "<sklearn.metrics._plot.confusion_matrix.ConfusionMatrixDisplay at 0x207cd564580>"
     },
     "execution_count": 88,
     "metadata": {},
     "output_type": "execute_result"
    },
    {
     "data": {
      "text/plain": "<Figure size 432x288 with 2 Axes>",
      "image/png": "[encoded data removed]"
     },
     "metadata": {
      "needs_background": "light"
     },
     "output_type": "display_data"
    }
   ]
  },
  {
   "cell_type": "code",
   "source": [
    "print(f'Tuned GBC accuracy: {accuracy_score(y_validation, gbc_predictions)}')"
   ],
   "metadata": {
    "execution": {
     "iopub.status.busy": "2022-03-05T16:47:05.449703Z",
     "iopub.execute_input": "2022-03-05T16:47:05.449893Z",
     "iopub.status.idle": "2022-03-05T16:47:05.456081Z",
     "shell.execute_reply.started": "2022-03-05T16:47:05.449868Z",
     "shell.execute_reply": "2022-03-05T16:47:05.455088Z"
    },
    "trusted": true
   },
   "execution_count": 89,
   "outputs": [
    {
     "name": "stdout",
     "output_type": "stream",
     "text": [
      "Tuned GBC accuracy: 0.8432835820895522\n"
     ]
    }
   ]
  },
  {
   "cell_type": "markdown",
   "source": [
    "# Final Model"
   ],
   "metadata": {}
  },
  {
   "cell_type": "code",
   "source": [
    "X.head()"
   ],
   "metadata": {
    "execution": {
     "iopub.status.busy": "2022-03-05T16:47:05.457716Z",
     "iopub.execute_input": "2022-03-05T16:47:05.458123Z",
     "iopub.status.idle": "2022-03-05T16:47:05.477312Z",
     "shell.execute_reply.started": "2022-03-05T16:47:05.458087Z",
     "shell.execute_reply": "2022-03-05T16:47:05.476677Z"
    },
    "trusted": true
   },
   "execution_count": 90,
   "outputs": [
    {
     "data": {
      "text/plain": "   Pclass   Age  SibSp  Parch     Fare  Cabin  Sex_female  Sex_male  \\\n0       3  22.0      1      0   7.2500      0           0         1   \n1       1  38.0      1      0  71.2833      1           1         0   \n2       3  26.0      0      0   7.9250      0           1         0   \n3       1  35.0      1      0  53.1000      1           1         0   \n4       3  35.0      0      0   8.0500      0           0         1   \n\n   Embarked_C  Embarked_Q  Embarked_S  \n0           0           0           1  \n1           1           0           0  \n2           0           0           1  \n3           0           0           1  \n4           0           0           1  ",
      "text/html": "<div>\n<style scoped>\n    .dataframe tbody tr th:only-of-type {\n        vertical-align: middle;\n    }\n\n    .dataframe tbody tr th {\n        vertical-align: top;\n    }\n\n    .dataframe thead th {\n        text-align: right;\n    }\n</style>\n<table border=\"1\" class=\"dataframe\">\n  <thead>\n    <tr style=\"text-align: right;\">\n      <th></th>\n      <th>Pclass</th>\n      <th>Age</th>\n      <th>SibSp</th>\n      <th>Parch</th>\n      <th>Fare</th>\n      <th>Cabin</th>\n      <th>Sex_female</th>\n      <th>Sex_male</th>\n      <th>Embarked_C</th>\n      <th>Embarked_Q</th>\n      <th>Embarked_S</th>\n    </tr>\n  </thead>\n  <tbody>\n    <tr>\n      <th>0</th>\n      <td>3</td>\n      <td>22.0</td>\n      <td>1</td>\n      <td>0</td>\n      <td>7.2500</td>\n      <td>0</td>\n      <td>0</td>\n      <td>1</td>\n      <td>0</td>\n      <td>0</td>\n      <td>1</td>\n    </tr>\n    <tr>\n      <th>1</th>\n      <td>1</td>\n      <td>38.0</td>\n      <td>1</td>\n      <td>0</td>\n      <td>71.2833</td>\n      <td>1</td>\n      <td>1</td>\n      <td>0</td>\n      <td>1</td>\n      <td>0</td>\n      <td>0</td>\n    </tr>\n    <tr>\n      <th>2</th>\n      <td>3</td>\n      <td>26.0</td>\n      <td>0</td>\n      <td>0</td>\n      <td>7.9250</td>\n      <td>0</td>\n      <td>1</td>\n      <td>0</td>\n      <td>0</td>\n      <td>0</td>\n      <td>1</td>\n    </tr>\n    <tr>\n      <th>3</th>\n      <td>1</td>\n      <td>35.0</td>\n      <td>1</td>\n      <td>0</td>\n      <td>53.1000</td>\n      <td>1</td>\n      <td>1</td>\n      <td>0</td>\n      <td>0</td>\n      <td>0</td>\n      <td>1</td>\n    </tr>\n    <tr>\n      <th>4</th>\n      <td>3</td>\n      <td>35.0</td>\n      <td>0</td>\n      <td>0</td>\n      <td>8.0500</td>\n      <td>0</td>\n      <td>0</td>\n      <td>1</td>\n      <td>0</td>\n      <td>0</td>\n      <td>1</td>\n    </tr>\n  </tbody>\n</table>\n</div>"
     },
     "execution_count": 90,
     "metadata": {},
     "output_type": "execute_result"
    }
   ]
  },
  {
   "cell_type": "code",
   "source": [
    "final_model = GradientBoostingClassifier(max_depth = 4, n_estimators = 40)\n",
    "\n",
    "scaler = StandardScaler()\n",
    "scaled_X = scaler.fit_transform(X)\n",
    "\n",
    "final_model.fit(scaled_X, y)"
   ],
   "metadata": {
    "execution": {
     "iopub.status.busy": "2022-03-05T16:47:05.478439Z",
     "iopub.execute_input": "2022-03-05T16:47:05.478787Z",
     "iopub.status.idle": "2022-03-05T16:47:05.554389Z",
     "shell.execute_reply.started": "2022-03-05T16:47:05.478755Z",
     "shell.execute_reply": "2022-03-05T16:47:05.553633Z"
    },
    "trusted": true
   },
   "execution_count": 91,
   "outputs": [
    {
     "data": {
      "text/plain": "GradientBoostingClassifier(max_depth=4, n_estimators=40)"
     },
     "execution_count": 91,
     "metadata": {},
     "output_type": "execute_result"
    }
   ]
  },
  {
   "cell_type": "code",
   "source": [
    "final_predictions = final_model.predict(scaled_X_test)"
   ],
   "metadata": {
    "execution": {
     "iopub.status.busy": "2022-03-05T16:47:05.555707Z",
     "iopub.execute_input": "2022-03-05T16:47:05.556395Z",
     "iopub.status.idle": "2022-03-05T16:47:05.561247Z",
     "shell.execute_reply.started": "2022-03-05T16:47:05.556363Z",
     "shell.execute_reply": "2022-03-05T16:47:05.560612Z"
    },
    "trusted": true
   },
   "execution_count": 92,
   "outputs": []
  },
  {
   "cell_type": "markdown",
   "source": [
    "# Model Deployment"
   ],
   "metadata": {}
  },
  {
   "cell_type": "code",
   "source": [
    "passengerId = pd.read_csv(\"test.csv\")['PassengerId']\n",
    "passengerId.head()"
   ],
   "metadata": {
    "execution": {
     "iopub.status.busy": "2022-03-05T16:47:05.562417Z",
     "iopub.execute_input": "2022-03-05T16:47:05.562806Z",
     "iopub.status.idle": "2022-03-05T16:47:05.585879Z",
     "shell.execute_reply.started": "2022-03-05T16:47:05.562778Z",
     "shell.execute_reply": "2022-03-05T16:47:05.585006Z"
    },
    "trusted": true
   },
   "execution_count": 93,
   "outputs": [
    {
     "data": {
      "text/plain": "0    892\n1    893\n2    894\n3    895\n4    896\nName: PassengerId, dtype: int64"
     },
     "execution_count": 93,
     "metadata": {},
     "output_type": "execute_result"
    }
   ]
  },
  {
   "cell_type": "code",
   "source": [
    "output = pd.DataFrame({'PassengerId': passengerId, 'Survived': final_predictions})\n",
    "output.to_csv('submission.csv', index=False)\n",
    "print(\"Your submission was successfully saved!\")"
   ],
   "metadata": {
    "execution": {
     "iopub.status.busy": "2022-03-05T16:47:05.587071Z",
     "iopub.execute_input": "2022-03-05T16:47:05.587791Z",
     "iopub.status.idle": "2022-03-05T16:47:05.597742Z",
     "shell.execute_reply.started": "2022-03-05T16:47:05.587755Z",
     "shell.execute_reply": "2022-03-05T16:47:05.596789Z"
    },
    "trusted": true,
    "pycharm": {
     "name": "#%%\n"
    }
   },
   "execution_count": 95,
   "outputs": [
    {
     "name": "stdout",
     "output_type": "stream",
     "text": [
      "Your submission was successfully saved!\n"
     ]
    }
   ]
  }
 ]
}